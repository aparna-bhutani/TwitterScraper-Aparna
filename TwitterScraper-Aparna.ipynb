{
 "cells": [
  {
   "cell_type": "code",
   "execution_count": 1,
   "metadata": {},
   "outputs": [],
   "source": [
    "import time\n",
    "import tweepy\n",
    "import pandas as pd"
   ]
  },
  {
   "cell_type": "markdown",
   "metadata": {},
   "source": [
    "## Extracting tweet URLs"
   ]
  },
  {
   "cell_type": "markdown",
   "metadata": {},
   "source": [
    "### Install snscrape in your terminal using: pip install snscrape\n",
    "### We have chosen out keyword as #Trump, Start Date: 2020-08-10 and End Date: 2020-08-15\n",
    "\n",
    "### Type the following command in your terminal to extract data: \n",
    "#### snscrape twitter-search \"#Trump since:2020-08-10 until:2020-08-15\" > trump_tweets.txt\n"
   ]
  },
  {
   "cell_type": "markdown",
   "metadata": {},
   "source": [
    "### Twitter Credentials (Update your twitter credentials in the credentials.csv file and load it here)"
   ]
  },
  {
   "cell_type": "code",
   "execution_count": 2,
   "metadata": {},
   "outputs": [
    {
     "data": {
      "text/html": [
       "<div>\n",
       "<style scoped>\n",
       "    .dataframe tbody tr th:only-of-type {\n",
       "        vertical-align: middle;\n",
       "    }\n",
       "\n",
       "    .dataframe tbody tr th {\n",
       "        vertical-align: top;\n",
       "    }\n",
       "\n",
       "    .dataframe thead th {\n",
       "        text-align: right;\n",
       "    }\n",
       "</style>\n",
       "<table border=\"1\" class=\"dataframe\">\n",
       "  <thead>\n",
       "    <tr style=\"text-align: right;\">\n",
       "      <th></th>\n",
       "      <th>Name</th>\n",
       "      <th>Key</th>\n",
       "    </tr>\n",
       "  </thead>\n",
       "  <tbody>\n",
       "    <tr>\n",
       "      <td>0</td>\n",
       "      <td>consumer_key</td>\n",
       "      <td>CvbMui2D4MuIK5dxzT0mR03s8</td>\n",
       "    </tr>\n",
       "    <tr>\n",
       "      <td>1</td>\n",
       "      <td>consumer_secret</td>\n",
       "      <td>YkrRUAfCCi9h0mDzThuzNb5d7CSDjQwb4SwDzQWaErVopt...</td>\n",
       "    </tr>\n",
       "    <tr>\n",
       "      <td>2</td>\n",
       "      <td>access_token</td>\n",
       "      <td>895342019668619264-lQ9NRAL8URrYfIpRSS1fbVMcUpk...</td>\n",
       "    </tr>\n",
       "    <tr>\n",
       "      <td>3</td>\n",
       "      <td>access_secret</td>\n",
       "      <td>naWmOWyX6XDN8f1khdmh2KodtOIr6DOmEjqipyQyetUgV</td>\n",
       "    </tr>\n",
       "  </tbody>\n",
       "</table>\n",
       "</div>"
      ],
      "text/plain": [
       "              Name                                                Key\n",
       "0     consumer_key                          CvbMui2D4MuIK5dxzT0mR03s8\n",
       "1  consumer_secret  YkrRUAfCCi9h0mDzThuzNb5d7CSDjQwb4SwDzQWaErVopt...\n",
       "2     access_token  895342019668619264-lQ9NRAL8URrYfIpRSS1fbVMcUpk...\n",
       "3    access_secret      naWmOWyX6XDN8f1khdmh2KodtOIr6DOmEjqipyQyetUgV"
      ]
     },
     "execution_count": 2,
     "metadata": {},
     "output_type": "execute_result"
    }
   ],
   "source": [
    "credentials_df = pd.read_csv('twitter_credentials.csv',header=None,names=['Name','Key'])\n",
    "credentials_df"
   ]
  },
  {
   "cell_type": "code",
   "execution_count": 3,
   "metadata": {},
   "outputs": [],
   "source": [
    "consumer_key = credentials_df.loc[credentials_df['Name']=='consumer_key','Key'].iloc[0]\n",
    "consumer_secret = credentials_df.loc[credentials_df['Name']=='consumer_secret','Key'].iloc[0]\n",
    "access_token = credentials_df.loc[credentials_df['Name']=='access_token','Key'].iloc[0]\n",
    "access_token_secret = credentials_df.loc[credentials_df['Name']=='access_secret','Key'].iloc[0]"
   ]
  },
  {
   "cell_type": "code",
   "execution_count": 4,
   "metadata": {},
   "outputs": [],
   "source": [
    "auth = tweepy.OAuthHandler(consumer_key, consumer_secret) \n",
    "auth.set_access_token(access_token, access_token_secret)\n",
    "api = tweepy.API(auth)"
   ]
  },
  {
   "cell_type": "markdown",
   "metadata": {},
   "source": [
    "### Load trump_tweets.txt file which contains tweet URLs"
   ]
  },
  {
   "cell_type": "code",
   "execution_count": 5,
   "metadata": {},
   "outputs": [
    {
     "data": {
      "text/html": [
       "<div>\n",
       "<style scoped>\n",
       "    .dataframe tbody tr th:only-of-type {\n",
       "        vertical-align: middle;\n",
       "    }\n",
       "\n",
       "    .dataframe tbody tr th {\n",
       "        vertical-align: top;\n",
       "    }\n",
       "\n",
       "    .dataframe thead th {\n",
       "        text-align: right;\n",
       "    }\n",
       "</style>\n",
       "<table border=\"1\" class=\"dataframe\">\n",
       "  <thead>\n",
       "    <tr style=\"text-align: right;\">\n",
       "      <th></th>\n",
       "      <th>links</th>\n",
       "    </tr>\n",
       "  </thead>\n",
       "  <tbody>\n",
       "    <tr>\n",
       "      <td>0</td>\n",
       "      <td>https://twitter.com/PhilipCohen5/status/129442...</td>\n",
       "    </tr>\n",
       "    <tr>\n",
       "      <td>1</td>\n",
       "      <td>https://twitter.com/rdreynola/status/129442341...</td>\n",
       "    </tr>\n",
       "    <tr>\n",
       "      <td>2</td>\n",
       "      <td>https://twitter.com/desderamona/status/1294423...</td>\n",
       "    </tr>\n",
       "    <tr>\n",
       "      <td>3</td>\n",
       "      <td>https://twitter.com/brosti/status/129442337854...</td>\n",
       "    </tr>\n",
       "    <tr>\n",
       "      <td>4</td>\n",
       "      <td>https://twitter.com/k1_Pilot/status/1294423359...</td>\n",
       "    </tr>\n",
       "  </tbody>\n",
       "</table>\n",
       "</div>"
      ],
      "text/plain": [
       "                                               links\n",
       "0  https://twitter.com/PhilipCohen5/status/129442...\n",
       "1  https://twitter.com/rdreynola/status/129442341...\n",
       "2  https://twitter.com/desderamona/status/1294423...\n",
       "3  https://twitter.com/brosti/status/129442337854...\n",
       "4  https://twitter.com/k1_Pilot/status/1294423359..."
      ]
     },
     "execution_count": 5,
     "metadata": {},
     "output_type": "execute_result"
    }
   ],
   "source": [
    "tweet_url = pd.read_csv(\"trump_tweets.txt\", index_col= None, header = None, names = [\"links\"])\n",
    "tweet_url.head()"
   ]
  },
  {
   "cell_type": "markdown",
   "metadata": {},
   "source": [
    "### Extracting Tweet IDs from URLs"
   ]
  },
  {
   "cell_type": "code",
   "execution_count": 6,
   "metadata": {},
   "outputs": [
    {
     "data": {
      "text/html": [
       "<div>\n",
       "<style scoped>\n",
       "    .dataframe tbody tr th:only-of-type {\n",
       "        vertical-align: middle;\n",
       "    }\n",
       "\n",
       "    .dataframe tbody tr th {\n",
       "        vertical-align: top;\n",
       "    }\n",
       "\n",
       "    .dataframe thead th {\n",
       "        text-align: right;\n",
       "    }\n",
       "</style>\n",
       "<table border=\"1\" class=\"dataframe\">\n",
       "  <thead>\n",
       "    <tr style=\"text-align: right;\">\n",
       "      <th></th>\n",
       "      <th>links</th>\n",
       "      <th>ID</th>\n",
       "    </tr>\n",
       "  </thead>\n",
       "  <tbody>\n",
       "    <tr>\n",
       "      <td>0</td>\n",
       "      <td>https://twitter.com/PhilipCohen5/status/129442...</td>\n",
       "      <td>1294423503748259840</td>\n",
       "    </tr>\n",
       "    <tr>\n",
       "      <td>1</td>\n",
       "      <td>https://twitter.com/rdreynola/status/129442341...</td>\n",
       "      <td>1294423414032207874</td>\n",
       "    </tr>\n",
       "    <tr>\n",
       "      <td>2</td>\n",
       "      <td>https://twitter.com/desderamona/status/1294423...</td>\n",
       "      <td>1294423402888011776</td>\n",
       "    </tr>\n",
       "    <tr>\n",
       "      <td>3</td>\n",
       "      <td>https://twitter.com/brosti/status/129442337854...</td>\n",
       "      <td>1294423378548461581</td>\n",
       "    </tr>\n",
       "    <tr>\n",
       "      <td>4</td>\n",
       "      <td>https://twitter.com/k1_Pilot/status/1294423359...</td>\n",
       "      <td>1294423359485284356</td>\n",
       "    </tr>\n",
       "  </tbody>\n",
       "</table>\n",
       "</div>"
      ],
      "text/plain": [
       "                                               links                   ID\n",
       "0  https://twitter.com/PhilipCohen5/status/129442...  1294423503748259840\n",
       "1  https://twitter.com/rdreynola/status/129442341...  1294423414032207874\n",
       "2  https://twitter.com/desderamona/status/1294423...  1294423402888011776\n",
       "3  https://twitter.com/brosti/status/129442337854...  1294423378548461581\n",
       "4  https://twitter.com/k1_Pilot/status/1294423359...  1294423359485284356"
      ]
     },
     "execution_count": 6,
     "metadata": {},
     "output_type": "execute_result"
    }
   ],
   "source": [
    "af = lambda x: x[\"links\"].split(\"/\")[-1]\n",
    "tweet_url['ID'] = tweet_url.apply(af, axis=1)\n",
    "tweet_url.head()"
   ]
  },
  {
   "cell_type": "code",
   "execution_count": 7,
   "metadata": {},
   "outputs": [],
   "source": [
    "idlist = tweet_url['ID'].tolist()"
   ]
  },
  {
   "cell_type": "code",
   "execution_count": 8,
   "metadata": {},
   "outputs": [],
   "source": [
    "total_tweets = len(idlist)\n",
    "batch = (total_tweets - 1) // 50 + 1"
   ]
  },
  {
   "cell_type": "code",
   "execution_count": 9,
   "metadata": {},
   "outputs": [
    {
     "data": {
      "text/plain": [
       "27343"
      ]
     },
     "execution_count": 9,
     "metadata": {},
     "output_type": "execute_result"
    }
   ],
   "source": [
    "total_tweets"
   ]
  },
  {
   "cell_type": "markdown",
   "metadata": {},
   "source": [
    "### Function for extracting elements from tweets using tweet_ids"
   ]
  },
  {
   "cell_type": "code",
   "execution_count": 10,
   "metadata": {},
   "outputs": [],
   "source": [
    "def extract_tweets(tweet_ids):\n",
    "    status = api.statuses_lookup(tweet_ids, tweet_mode= \"extended\")\n",
    "    df = pd.DataFrame()\n",
    "    for tweet in status:\n",
    "            tweet_element = {\"tweet_ID\": tweet.id,\n",
    "                     \"username\": tweet.user.screen_name,\n",
    "                     \"tweet\":tweet.full_text,\n",
    "                     \"date\":tweet.created_at}\n",
    "            df = df.append(tweet_element, ignore_index = True)\n",
    "    df.to_csv(\"extracted_tweets_trump.csv\", mode=\"a\")"
   ]
  },
  {
   "cell_type": "code",
   "execution_count": 11,
   "metadata": {},
   "outputs": [],
   "source": [
    "for i in range(batch):\n",
    "        extract_batch = idlist[i*50:(i+1)*50]\n",
    "        data = extract_tweets(extract_batch)"
   ]
  },
  {
   "cell_type": "code",
   "execution_count": null,
   "metadata": {},
   "outputs": [],
   "source": []
  }
 ],
 "metadata": {
  "kernelspec": {
   "display_name": "Python 3",
   "language": "python",
   "name": "python3"
  },
  "language_info": {
   "codemirror_mode": {
    "name": "ipython",
    "version": 3
   },
   "file_extension": ".py",
   "mimetype": "text/x-python",
   "name": "python",
   "nbconvert_exporter": "python",
   "pygments_lexer": "ipython3",
   "version": "3.7.4"
  }
 },
 "nbformat": 4,
 "nbformat_minor": 2
}
